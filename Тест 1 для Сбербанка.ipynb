{
 "cells": [
  {
   "cell_type": "code",
   "execution_count": 12,
   "metadata": {},
   "outputs": [],
   "source": [
    "from gensim.models import Word2Vec\n",
    "import numpy as np"
   ]
  },
  {
   "cell_type": "code",
   "execution_count": 22,
   "metadata": {},
   "outputs": [],
   "source": [
    "class Preprocessing:\n",
    "    end_ch=':.!\";'\n",
    "    punct = '!.:;,?\"\\'-'\n",
    "    numbers = '1234567890{}()'\n",
    "    lat_letters = 'abcdefghijklmnopqrstuvwxyzABCDEFGHIJKLMNOPQRSTUVWXYZ'\n",
    "    \n",
    "    def readline(file, delimiters):\n",
    "        buffer = ''\n",
    "        while True:\n",
    "            b = file.read(1)\n",
    "            buffer += b\n",
    "            if b:\n",
    "                if b in delimiters:\n",
    "                   yield buffer\n",
    "                   buffer = ''\n",
    "            else:\n",
    "               yield buffer\n",
    "               break\n",
    "    \n",
    "    def load_pushkin(filename='./Корпуса/Пушкин.txt'):\n",
    "        pushkin_file = open(filename, 'r')\n",
    "        pushkin_phrases = list()\n",
    "        phrase=''\n",
    "        for line in pushkin_file.readlines():\n",
    "            line=\"\".join(ch for ch in line if ch not in ('\"', \"'\", '\\t')).strip()\n",
    "            phrase+=' '+line\n",
    "            if len(line):\n",
    "                if ((Preprocessing.end_ch+',').find(line[-1])!=-1):\n",
    "                    pushkin_phrases.append(phrase.strip()[:-1]+'.')\n",
    "                    phrase=''\n",
    "                else:\n",
    "                    phrase = line\n",
    "        pushkin_file.close()\n",
    "        return pushkin_phrases\n",
    "    \n",
    "    def parse_pushkin(pushkin_phrases):\n",
    "        p_sentences=list()\n",
    "        for phrase in pushkin_phrases:\n",
    "                words = \"\".join(ch for ch in phrase \n",
    "                                if ch not in Preprocessing.punct+Preprocessing.numbers)\\\n",
    "                .lower().split()\n",
    "                words = list(filter(lambda w: len(w)>2, words))\n",
    "                p_sentences.append(words)\n",
    "        return p_sentences\n",
    "\n",
    "    def load_tolstoy(filename='./Корпуса/Война и Мир.txt'):\n",
    "        tolstoy_file = open(filename, 'r')\n",
    "        sentences=list()\n",
    "        for line in Preprocessing.readline(tolstoy_file, Preprocessing.end_ch):\n",
    "            line = line.strip()\n",
    "            line = \"\".join(ch for ch in line if ch not in Preprocessing.punct)\n",
    "            if len(line):\n",
    "                words = line.split()\n",
    "                words = list(filter(lambda w: len(w)>2, words))\n",
    "                sentences.append(words)\n",
    "        tolstoy_file.close()\n",
    "        return sentences\n",
    "\n",
    "    def load_dialog(filename='./Корпуса/Диалоги.txt'):\n",
    "        dialogs_file = open(filename, 'r', encoding='utf-8')\n",
    "        sentences=list()\n",
    "        for line in Preprocessing.readline(dialogs_file, \"\\n\"):\n",
    "            line = line.strip()[2:]\n",
    "            line = \"\".join(ch for ch in line if ch not in Preprocessing.punct)\n",
    "            if len(line):\n",
    "                words = line.split()\n",
    "                words = list(filter(lambda w: len(w)>2, words))\n",
    "                sentences.append(words)\n",
    "        dialogs_file.close()\n",
    "        return sentences"
   ]
  },
  {
   "cell_type": "code",
   "execution_count": 40,
   "metadata": {},
   "outputs": [],
   "source": [
    "class Model:\n",
    "    def __init__(self, learning_text, _size, _window):\n",
    "        self.w2v_model = Word2Vec(learning_text, size = _size, window = _window)\n",
    "    \n",
    "    def train(self, learning_phrases, numbers, _epochs):\n",
    "        model.train(learning_phrases, total_examples = numbers, epochs = _epochs)\n",
    "        \n",
    "    def set_phrase(self, _phrase):\n",
    "        self.phrase = _phrase\n",
    "        \n",
    "    def get_phrase(self):\n",
    "        return self.phrase\n",
    "    \n",
    "    def get_model_words(self):\n",
    "        return list(self.w2v_model.wv.vocab.keys())"
   ]
  },
  {
   "cell_type": "code",
   "execution_count": 52,
   "metadata": {},
   "outputs": [],
   "source": [
    "class Conversation_with_Poet:\n",
    "    pushkin_phrases = Preprocessing.load_pushkin()\n",
    "    pushkin_sentences = Preprocessing.parse_pushkin(pushkin_phrases)\n",
    "    tolstoy_sentences = Preprocessing.load_tolstoy()\n",
    "    dialog_sentences = Preprocessing.load_dialog()\n",
    "    model = Model(pushkin_sentences+tolstoy_sentences+dialog_sentences, 300, 5)\n",
    "    \n",
    "    def get():\n",
    "        return Conversation_with_Poet.model.get_phrase()\n",
    "    \n",
    "    def post(phrase):\n",
    "        phrase_list=list()\n",
    "        input_phrase = \"\".join\\\n",
    "        (ch for ch in phrase if ch not in Preprocessing.punct+Preprocessing.numbers)\\\n",
    "        .lower().split()\n",
    "        sentence_sim = dict()\n",
    "        i=0\n",
    "        for sentence in Conversation_with_Poet.pushkin_sentences:\n",
    "            learning_phrase = list(filter(lambda w: len(w)>2, input_phrase))\n",
    "            \n",
    "            sentence = list(filter(lambda w: w in\\\n",
    "                                   Conversation_with_Poet.model.get_model_words(),\\\n",
    "                                   sentence))\n",
    "            input_phrase = list(filter(lambda w: w in\\\n",
    "                                      Conversation_with_Poet.model.get_model_words(),\\\n",
    "                                      input_phrase))\n",
    "            if len(sentence)!=0 and len(input_phrase)!=0:\n",
    "                sentence_sim[Conversation_with_Poet.pushkin_phrases[i]] = \\\n",
    "                Conversation_with_Poet.model.w2v_model.wv.n_similarity(sentence, input_phrase)\n",
    "            i+=1\n",
    "        try:\n",
    "            max_sim = max(sentence_sim.values())\n",
    "        except:\n",
    "            max_sim=0\n",
    "        for phrase in Conversation_with_Poet.pushkin_phrases:\n",
    "            if sentence_sim.get(phrase)==max_sim:\n",
    "                phrase_list.append(phrase)\n",
    "        Conversation_with_Poet.model.set_phrase(np.random.choice(phrase_list))"
   ]
  },
  {
   "cell_type": "code",
   "execution_count": 55,
   "metadata": {},
   "outputs": [],
   "source": [
    "Conversation_with_Poet.post(\"Может быть не надо было идти на дуэль с Дантесом?\")"
   ]
  },
  {
   "cell_type": "code",
   "execution_count": 56,
   "metadata": {},
   "outputs": [
    {
     "data": {
      "text/plain": [
       "'Пора, пора мне быть умней.'"
      ]
     },
     "execution_count": 56,
     "metadata": {},
     "output_type": "execute_result"
    }
   ],
   "source": [
    "Conversation_with_Poet.get()"
   ]
  },
  {
   "cell_type": "code",
   "execution_count": null,
   "metadata": {},
   "outputs": [],
   "source": []
  }
 ],
 "metadata": {
  "kernelspec": {
   "display_name": "Python 3",
   "language": "python",
   "name": "python3"
  },
  "language_info": {
   "codemirror_mode": {
    "name": "ipython",
    "version": 3
   },
   "file_extension": ".py",
   "mimetype": "text/x-python",
   "name": "python",
   "nbconvert_exporter": "python",
   "pygments_lexer": "ipython3",
   "version": "3.7.0"
  }
 },
 "nbformat": 4,
 "nbformat_minor": 2
}
