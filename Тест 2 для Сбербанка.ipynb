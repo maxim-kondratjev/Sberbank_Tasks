{
 "cells": [
  {
   "cell_type": "code",
   "execution_count": null,
   "metadata": {},
   "outputs": [
    {
     "name": "stderr",
     "output_type": "stream",
     "text": [
      "No traceback available to show.\n"
     ]
    },
    {
     "name": "stdout",
     "output_type": "stream",
     "text": [
      " * Serving Flask app \"__main__\" (lazy loading)\n",
      " * Environment: production\n",
      "   WARNING: Do not use the development server in a production environment.\n",
      "   Use a production WSGI server instead.\n",
      " * Debug mode: on\n"
     ]
    },
    {
     "name": "stderr",
     "output_type": "stream",
     "text": [
      " * Running on http://127.0.0.1:5000/ (Press CTRL+C to quit)\n",
      "127.0.0.1 - - [08/Apr/2019 03:00:53] \"GET /?text=Самое%20чудное%20мгновенье,%20Передо%20мной%20явилось%20ты. HTTP/1.1\" 200 -\n"
     ]
    }
   ],
   "source": [
    "%tb\n",
    "from gensim.models import Word2Vec\n",
    "import numpy as np\n",
    "from flask import Flask, jsonify, request\n",
    "import json\n",
    "\n",
    "app = Flask(__name__)\n",
    "\n",
    "@app.route('/')\n",
    "  \n",
    "def W2V_Model():\n",
    "    phrases = Preprocessing.load_file(filename ='./Корпуса/Война и Мир отрывок.txt')\n",
    "    sentences = Preprocessing.parse_phrases(phrases)\n",
    "    model = Word2Vec(sentences, min_count=1)\n",
    "    model_words = list(model.wv.vocab.keys())\n",
    "    phrase_list = list()\n",
    "    text = request.args['text']\n",
    "    text = \"\"\\\n",
    "    .join(ch for ch in text\\\n",
    "          if ch not in Preprocessing.punct+Preprocessing.numbers)\\\n",
    "    .lower().split()\n",
    "    sentence_sim = dict()\n",
    "    i=0\n",
    "    for sentence in sentences:\n",
    "        learning_phrase = list(filter(lambda w: len(w)>2, text))\n",
    "        model.train([learning_phrase], total_examples=1, epochs=1)\n",
    "        sentence = list(filter(lambda x: x in model_words, sentence))\n",
    "        text = list(filter(lambda x: x in model_words, text))\n",
    "        if len(sentence)!=0 and len(text)!=0:\n",
    "            sentence_sim[phrases[i]] = model.wv.n_similarity(sentence, text)\n",
    "        i+=1 \n",
    "    try:\n",
    "        max_sim = max(sentence_sim.values())\n",
    "    except:\n",
    "        max_sim=0\n",
    "    for phrase in phrases:\n",
    "        if sentence_sim.get(phrase)==max_sim:\n",
    "            phrase_list.append(phrase)\n",
    "    phrase = str(np.random.choice(phrase_list))\n",
    "    return jsonify(phrase)\n",
    "\n",
    "    def get_model_words(self):\n",
    "        return list(self.w2v_model.wv.vocab.keys())\n",
    "\n",
    "\n",
    "class Preprocessing:\n",
    "    end_ch=':.!\";'\n",
    "    punct = '!.:;,?\"\\'-'\n",
    "    numbers = '1234567890{}()'\n",
    "    lat_letters = 'abcdefghijklmnopqrstuvwxyzABCDEFGHIJKLMNOPQRSTUVWXYZ'\n",
    "    \n",
    "    def readline(file, delimiters):\n",
    "        buffer = ''\n",
    "        while True:\n",
    "            b = file.read(1)\n",
    "            buffer += b\n",
    "            if b:\n",
    "                if b in delimiters:\n",
    "                   yield buffer\n",
    "                   buffer = ''\n",
    "            else:\n",
    "               yield buffer\n",
    "               break\n",
    "                \n",
    "    def parse_phrases(phrases):\n",
    "        sentences=list()\n",
    "        for phrase in phrases:\n",
    "                words = \"\".join(ch for ch in phrase \n",
    "                                if ch not in Preprocessing.punct+Preprocessing.numbers)\\\n",
    "                .lower().split()\n",
    "                words = list(filter(lambda w: len(w)>2, words))\n",
    "                sentences.append(words)\n",
    "        return sentences\n",
    "    \n",
    "    def load_file(filename='./Корпуса/Война и Мир.txt'):\n",
    "        file = open(filename, 'r')\n",
    "        phrases=list()\n",
    "        for line in Preprocessing.readline(file, Preprocessing.end_ch):\n",
    "            line = line.strip()\n",
    "            phrases.append(line)\n",
    "        file.close()\n",
    "        return phrases\n",
    "    \n",
    "\n",
    "if __name__ == '__main__':\n",
    "    app.run(debug=True, use_reloader=False)"
   ]
  }
 ],
 "metadata": {
  "kernelspec": {
   "display_name": "Python 3",
   "language": "python",
   "name": "python3"
  },
  "language_info": {
   "codemirror_mode": {
    "name": "ipython",
    "version": 3
   },
   "file_extension": ".py",
   "mimetype": "text/x-python",
   "name": "python",
   "nbconvert_exporter": "python",
   "pygments_lexer": "ipython3",
   "version": "3.7.0"
  }
 },
 "nbformat": 4,
 "nbformat_minor": 2
}
